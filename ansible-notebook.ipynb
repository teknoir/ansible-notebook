{
 "cells": [
  {
   "cell_type": "markdown",
   "metadata": {
    "pycharm": {
     "name": "#%% md\n"
    }
   },
   "source": [
    "# Teknoir Ansible Notebook Demo\n",
    "Notebooks runs in namespaces, the scope of devices to control is defined by the namespace.\n",
    "\n",
    "## Limitations\n",
    "* Namespaces become groups, we do not support namespaces with dashes(-).\n",
    "  * Dashes(-) will be replaced with underscores(_)\n",
    "* The Connection Plugin automatically enable tunnels for devices but...\n",
    "  * does not tear them down after\n",
    "    \n",
    "## Run a playbook\n",
    "```bash\n",
    "ansible-playbook -v playbook.yaml --limit my-device-01,my-device-02\n",
    "```"
   ]
  },
  {
   "cell_type": "code",
   "execution_count": null,
   "metadata": {},
   "outputs": [],
   "source": [
    "!ansible --list-hosts all"
   ]
  },
  {
   "cell_type": "code",
   "execution_count": null,
   "metadata": {
    "pycharm": {
     "name": "#%%\n"
    }
   },
   "outputs": [],
   "source": [
    "!ansible-playbook -v playbook.yaml --limit jetson-nano"
   ]
  },
  {
   "cell_type": "code",
   "execution_count": null,
   "metadata": {
    "pycharm": {
     "name": "#%%\n"
    }
   },
   "outputs": [],
   "source": []
  }
 ],
 "metadata": {
  "kernelspec": {
   "display_name": "Python 3 (ipykernel)",
   "language": "python",
   "name": "python3"
  },
  "language_info": {
   "codemirror_mode": {
    "name": "ipython",
    "version": 3
   },
   "file_extension": ".py",
   "mimetype": "text/x-python",
   "name": "python",
   "nbconvert_exporter": "python",
   "pygments_lexer": "ipython3",
   "version": "3.10.5"
  }
 },
 "nbformat": 4,
 "nbformat_minor": 4
}
