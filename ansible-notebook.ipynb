{
 "cells": [
  {
   "cell_type": "markdown",
   "metadata": {},
   "source": [
    "# Teknoir Ansible Notebook Demo\n",
    "Notebooks runs in namespaces, the scope of devices to control is defined by the namespace.\n",
    "\n",
    "## Limitations\n",
    "* Namespaces become groups, we do not support namespaces with dashes(-).\n",
    "  * Dashes(-) will be replaced with underscores(_)\n",
    "* The Connection Plugin automatically enable tunnels for devices but...\n",
    "  * does not tear them down after\n",
    "    \n",
    "## Run a playbook\n",
    "```bash\n",
    "ansible-playbook -v -i inventory.py playbook.yaml --limit my-device-01,my-device-02\n",
    "```"
   ]
  },
  {
   "cell_type": "code",
   "execution_count": 88,
   "metadata": {},
   "outputs": [
    {
     "name": "stdout",
     "output_type": "stream",
     "text": [
      "Requirement already satisfied: ansible in /opt/conda/lib/python3.6/site-packages (4.0.0)\n",
      "Requirement already satisfied: ansible-core<2.12,>=2.11.0 in /opt/conda/lib/python3.6/site-packages (from ansible) (2.11.1)\n",
      "Requirement already satisfied: cryptography in /opt/conda/lib/python3.6/site-packages (from ansible-core<2.12,>=2.11.0->ansible) (2.6.1)\n",
      "Requirement already satisfied: packaging in /opt/conda/lib/python3.6/site-packages (from ansible-core<2.12,>=2.11.0->ansible) (20.9)\n",
      "Requirement already satisfied: resolvelib<0.6.0,>=0.5.3 in /opt/conda/lib/python3.6/site-packages (from ansible-core<2.12,>=2.11.0->ansible) (0.5.4)\n",
      "Requirement already satisfied: PyYAML in /opt/conda/lib/python3.6/site-packages (from ansible-core<2.12,>=2.11.0->ansible) (5.3.1)\n",
      "Requirement already satisfied: jinja2 in /opt/conda/lib/python3.6/site-packages (from ansible-core<2.12,>=2.11.0->ansible) (2.11.2)\n",
      "Requirement already satisfied: cffi!=1.11.3,>=1.8 in /opt/conda/lib/python3.6/site-packages (from cryptography->ansible-core<2.12,>=2.11.0->ansible) (1.12.2)\n",
      "Requirement already satisfied: asn1crypto>=0.21.0 in /opt/conda/lib/python3.6/site-packages (from cryptography->ansible-core<2.12,>=2.11.0->ansible) (0.24.0)\n",
      "Requirement already satisfied: six>=1.4.1 in /opt/conda/lib/python3.6/site-packages (from cryptography->ansible-core<2.12,>=2.11.0->ansible) (1.12.0)\n",
      "Requirement already satisfied: pyparsing>=2.0.2 in /opt/conda/lib/python3.6/site-packages (from packaging->ansible-core<2.12,>=2.11.0->ansible) (2.4.7)\n",
      "Requirement already satisfied: MarkupSafe>=0.23 in /opt/conda/lib/python3.6/site-packages (from jinja2->ansible-core<2.12,>=2.11.0->ansible) (1.1.1)\n",
      "Requirement already satisfied: pycparser in /opt/conda/lib/python3.6/site-packages (from cffi!=1.11.3,>=1.8->cryptography->ansible-core<2.12,>=2.11.0->ansible) (2.19)\n",
      "\u001B[33mWARNING: You are using pip version 20.2.3; however, version 21.1.2 is available.\n",
      "You should consider upgrading via the '/opt/conda/bin/python -m pip install --upgrade pip' command.\u001B[0m\n"
     ]
    }
   ],
   "source": [
    "!python -m pip install ansible"
   ]
  },
  {
   "cell_type": "code",
   "execution_count": 89,
   "metadata": {},
   "outputs": [
    {
     "name": "stdout",
     "output_type": "stream",
     "text": [
      "\u001B[0;35m[DEPRECATION WARNING]: Ansible will require Python 3.8 or newer on the \u001B[0m\n",
      "\u001B[0;35mcontroller starting with Ansible 2.12. Current version: 3.6.7 | packaged by \u001B[0m\n",
      "\u001B[0;35mconda-forge | (default, Feb 28 2019, 09:07:38) [GCC 7.3.0]. This feature will \u001B[0m\n",
      "\u001B[0;35mbe removed from ansible-core in version 2.12. Deprecation warnings can be \u001B[0m\n",
      "\u001B[0;35mdisabled by setting deprecation_warnings=False in ansible.cfg.\u001B[0m\n",
      "\n",
      "PLAY [Patch \"Subsystems\"] ******************************************************\n",
      "\n",
      "TASK [Gathering Facts] *********************************************************\n",
      "\u001B[0;32mok: [avangard_production-hd-vm-00076]\u001B[0m\n",
      "\n",
      "TASK [Install required python packages] ****************************************\n",
      "\u001B[0;32mok: [avangard_production-hd-vm-00076]\u001B[0m\n",
      "\n",
      "TASK [Create TNS directory if it does not exist] *******************************\n",
      "\u001B[0;32mok: [avangard_production-hd-vm-00076]\u001B[0m\n",
      "\n",
      "TASK [Copy subsystems.py] ******************************************************\n",
      "\u001B[0;33mchanged: [avangard_production-hd-vm-00076]\u001B[0m\n",
      "\n",
      "TASK [Copy TNS service] ********************************************************\n",
      "\u001B[0;32mok: [avangard_production-hd-vm-00076]\u001B[0m\n",
      "\n",
      "TASK [Enable TNS service ensure it is not masked] ******************************\n",
      "\u001B[0;32mok: [avangard_production-hd-vm-00076]\u001B[0m\n",
      "\n",
      "TASK [Make sure TNS is restarted] **********************************************\n",
      "\u001B[0;33mchanged: [avangard_production-hd-vm-00076]\u001B[0m\n",
      "\n",
      "TASK [Copy networkd-dispatcher no-carrier script] ******************************\n",
      "\u001B[0;32mok: [avangard_production-hd-vm-00076]\u001B[0m\n",
      "\n",
      "TASK [Remove networkd-dispatcher routable script 1] ****************************\n",
      "\u001B[0;32mok: [avangard_production-hd-vm-00076]\u001B[0m\n",
      "\n",
      "TASK [Remove networkd-dispatcher routable script 2] ****************************\n",
      "\u001B[0;32mok: [avangard_production-hd-vm-00076]\u001B[0m\n",
      "\n",
      "TASK [Copy networkd-dispatcher routable script] ********************************\n",
      "\u001B[0;32mok: [avangard_production-hd-vm-00076]\u001B[0m\n",
      "\n",
      "TASK [Recursively remove simcom directory] *************************************\n",
      "\u001B[0;32mok: [avangard_production-hd-vm-00076]\u001B[0m\n",
      "\n",
      "TASK [Remove simcom service file] **********************************************\n",
      "\u001B[0;32mok: [avangard_production-hd-vm-00076]\u001B[0m\n",
      "\n",
      "TASK [Remove udev rules file] **************************************************\n",
      "\u001B[0;32mok: [avangard_production-hd-vm-00076]\u001B[0m\n",
      "\n",
      "TASK [Remove old simcom service] ***********************************************\n",
      "\u001B[0;31mfatal: [avangard_production-hd-vm-00076]: FAILED! => {\"changed\": false, \"msg\": \"Could not find the requested service simcom_wwan@wwan0: host\"}\u001B[0m\n",
      "\u001B[0;36m...ignoring\u001B[0m\n",
      "\n",
      "TASK [Remove old keepup service] ***********************************************\n",
      "\u001B[0;31mfatal: [avangard_production-hd-vm-00076]: FAILED! => {\"changed\": false, \"msg\": \"Could not find the requested service keepup_wwan@wwan0: host\"}\u001B[0m\n",
      "\u001B[0;36m...ignoring\u001B[0m\n",
      "\n",
      "TASK [Recursively remove keepup directory] *************************************\n",
      "\u001B[0;32mok: [avangard_production-hd-vm-00076]\u001B[0m\n",
      "\n",
      "TASK [Remove keepup service file] **********************************************\n",
      "\u001B[0;32mok: [avangard_production-hd-vm-00076]\u001B[0m\n",
      "\n",
      "TASK [Replace imagePullPolicy line in toe manifest] ****************************\n",
      "\u001B[0;32mok: [avangard_production-hd-vm-00076]\u001B[0m\n",
      "\n",
      "TASK [Ensure Wifi network settings are correct] ********************************\n",
      "\u001B[0;32mok: [avangard_production-hd-vm-00076]\u001B[0m\n",
      "\n",
      "TASK [Ensure Wifi network is enabled] ******************************************\n",
      "\u001B[0;32mok: [avangard_production-hd-vm-00076]\u001B[0m\n",
      "\n",
      "TASK [Enable wpa supplicant service for wlan0] *********************************\n",
      "\u001B[0;32mok: [avangard_production-hd-vm-00076]\u001B[0m\n",
      "\n",
      "TASK [Make sure MQTT broker localhost service exists] **************************\n",
      "\u001B[0;32mok: [avangard_production-hd-vm-00076]\u001B[0m\n",
      "\n",
      "PLAY RECAP *********************************************************************\n",
      "\u001B[0;33mavangard_production-hd-vm-00076\u001B[0m : \u001B[0;32mok=23  \u001B[0m \u001B[0;33mchanged=2   \u001B[0m unreachable=0    failed=0    skipped=0    rescued=0    \u001B[1;35mignored=2   \u001B[0m\n",
      "\n"
     ]
    }
   ],
   "source": [
    "!ansible-playbook -i inventory.py playbook.yaml --limit my-device-01"
   ]
  },
  {
   "cell_type": "code",
   "execution_count": null,
   "metadata": {},
   "outputs": [],
   "source": []
  }
 ],
 "metadata": {
  "kernelspec": {
   "display_name": "Python 3",
   "language": "python",
   "name": "python3"
  },
  "language_info": {
   "codemirror_mode": {
    "name": "ipython",
    "version": 3
   },
   "file_extension": ".py",
   "mimetype": "text/x-python",
   "name": "python",
   "nbconvert_exporter": "python",
   "pygments_lexer": "ipython3",
   "version": "3.6.7"
  }
 },
 "nbformat": 4,
 "nbformat_minor": 4
}